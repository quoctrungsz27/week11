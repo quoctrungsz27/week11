{
  "nbformat": 4,
  "nbformat_minor": 0,
  "metadata": {
    "colab": {
      "provenance": [],
      "mount_file_id": "1qi5GGcPd-ytX-oBSPSsCQV89T_Uh9AWV",
      "authorship_tag": "ABX9TyPiEPZhz0DJlG7Mh9hCR0zG",
      "include_colab_link": true
    },
    "kernelspec": {
      "name": "python3",
      "display_name": "Python 3"
    },
    "language_info": {
      "name": "python"
    }
  },
  "cells": [
    {
      "cell_type": "markdown",
      "metadata": {
        "id": "view-in-github",
        "colab_type": "text"
      },
      "source": [
        "<a href=\"https://colab.research.google.com/github/quoctrungsz27/week11/blob/main/Data_for_face_reconnization.ipynb\" target=\"_parent\"><img src=\"https://colab.research.google.com/assets/colab-badge.svg\" alt=\"Open In Colab\"/></a>"
      ]
    },
    {
      "cell_type": "code",
      "execution_count": 1,
      "metadata": {
        "id": "krIIhyvkZqm5"
      },
      "outputs": [],
      "source": [
        "from os import listdir\n",
        "from numpy import asarray, save\n",
        "from keras.utils import load_img\n",
        "from keras.utils import img_to_array"
      ]
    },
    {
      "cell_type": "code",
      "source": [
        "folder = '/content/drive/MyDrive/Colab Notebooks/Data face'\n",
        "photos, labels = list(), list()\n",
        "for file in listdir(folder):\n",
        "  output= 0.0\n",
        "  if file.startswith('Hieu_'):\n",
        "    output= 1.0\n",
        "  if file.startswith('dung'):\n",
        "    output= 2.0\n",
        "  photo = load_img(folder + file, target_size= (30,40))\n",
        "  photo= img_to_array(photo)\n",
        "\n",
        "  photos.append(photo)\n",
        "  labels.append(output)\n",
        "\n",
        "photos= asarray(photos)\n",
        "labels= asarray(labels)\n",
        "print(photos.shape, labels.shape)\n",
        "save('/content/drive/MyDrive/Colab Notebooks/Data face/Trung_Hoi_photos.npy', photos)\n",
        "save('/content/drive/MyDrive/Colab Notebooks/Data face/Hieu_Hoi_labels.npy', labels)"
      ],
      "metadata": {
        "colab": {
          "base_uri": "https://localhost:8080/"
        },
        "id": "nH61XGxxZuON",
        "outputId": "4e57798b-f5e4-4965-e2f0-93ee98af2f07"
      },
      "execution_count": 3,
      "outputs": [
        {
          "output_type": "stream",
          "name": "stdout",
          "text": [
            "(0,) (0,)\n"
          ]
        }
      ]
    },
    {
      "cell_type": "code",
      "source": [],
      "metadata": {
        "id": "gf0MMUxSZwJj"
      },
      "execution_count": null,
      "outputs": []
    }
  ]
}